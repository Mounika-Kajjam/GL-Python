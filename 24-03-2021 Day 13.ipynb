{
 "cells": [
  {
   "cell_type": "markdown",
   "metadata": {},
   "source": [
    "### Fuctions"
   ]
  },
  {
   "cell_type": "markdown",
   "metadata": {},
   "source": [
    "```\n",
    "Function Definition\n",
    "def function_name():\n",
    "    Statement-1\n",
    "    Statement-2\n",
    "    Statement-3\n",
    "    .........\n",
    "    .........\n",
    "    return(optional)\n",
    "```"
   ]
  },
  {
   "cell_type": "code",
   "execution_count": 2,
   "metadata": {},
   "outputs": [],
   "source": [
    "# Function Definition\n",
    "def Addition(x,y):\n",
    "    print(x+y)"
   ]
  },
  {
   "cell_type": "code",
   "execution_count": 4,
   "metadata": {},
   "outputs": [
    {
     "name": "stdout",
     "output_type": "stream",
     "text": [
      "47\n"
     ]
    }
   ],
   "source": [
    "# Function Calling\n",
    "# Call--> must be done outside the function\n",
    "Addition(12,35)"
   ]
  },
  {
   "cell_type": "code",
   "execution_count": 5,
   "metadata": {},
   "outputs": [
    {
     "name": "stdout",
     "output_type": "stream",
     "text": [
      "5801\n"
     ]
    }
   ],
   "source": [
    "Addition(1234, 4567)"
   ]
  },
  {
   "cell_type": "code",
   "execution_count": 9,
   "metadata": {},
   "outputs": [
    {
     "name": "stdout",
     "output_type": "stream",
     "text": [
      "47\n"
     ]
    }
   ],
   "source": [
    "# Function  without return statement\n",
    "def Addition(x,y):\n",
    "    print(x+y) # prints to the console, not store any values on memory\n",
    "# Function Call\n",
    "a = Addition(12,35)"
   ]
  },
  {
   "cell_type": "code",
   "execution_count": 19,
   "metadata": {},
   "outputs": [],
   "source": [
    "a"
   ]
  },
  {
   "cell_type": "code",
   "execution_count": 34,
   "metadata": {},
   "outputs": [],
   "source": [
    "# Function with return statement\n",
    "def demo(x,y):\n",
    "    return x+y, x-y, x*y # it will allocate memory to the value \n",
    "# Function Call\n",
    "b = demo(12,35)"
   ]
  },
  {
   "cell_type": "code",
   "execution_count": 35,
   "metadata": {},
   "outputs": [],
   "source": [
    "# Formal and Actual Arguments\n",
    "# Arguments at Function Definition -> Formal\n",
    "# Arguments at Function Call --> Actual\n",
    "\n",
    "def demo(x,y): # x, y are called as formal arguments\n",
    "    return x+y\n",
    "# Function Call\n",
    "b = demo(12,35) # 12, 35 are called as actual arguments"
   ]
  },
  {
   "cell_type": "code",
   "execution_count": 40,
   "metadata": {},
   "outputs": [
    {
     "name": "stdout",
     "output_type": "stream",
     "text": [
      "Enter any number121\n",
      "Number is palindrome\n"
     ]
    }
   ],
   "source": [
    "# Function to check whether a number is palindrome or not\n",
    "# 123 --> 321 --> Not Palindrome\n",
    "\n",
    "def reverse(n):\n",
    "    rev = 0 # Initalizing reversed number = 0\n",
    "    while n>0 :\n",
    "        rev = rev*10 + n%10\n",
    "        n//=10 # n=n//10 --> store integer quotient 123//10 ==> 12\n",
    "    return rev\n",
    "n = int(input(\"Enter any number\"))\n",
    "if n == reverse(n):\n",
    "    print(\"Number is palindrome\")\n",
    "else:\n",
    "    print(\"Not a palindrome\")\n",
    "        "
   ]
  },
  {
   "cell_type": "code",
   "execution_count": null,
   "metadata": {},
   "outputs": [],
   "source": [
    "# Adam Number\n",
    "                 12 → 12*12 =144\n",
    "                 21 → 21*21 = 441\n",
    "                reverse(144) =441 =21*21\n",
    "\n",
    "reverse(n**2)==> \n",
    "\n",
    "reverse(n)**2"
   ]
  },
  {
   "cell_type": "code",
   "execution_count": 46,
   "metadata": {},
   "outputs": [
    {
     "name": "stdout",
     "output_type": "stream",
     "text": [
      "Enter any number1234\n",
      "Not and Adam\n"
     ]
    }
   ],
   "source": [
    "n = int(input(\"Enter any number\"))\n",
    "if reverse(n**2) == reverse(n)**2:\n",
    "    print(\"Number is Adam\")\n",
    "else:\n",
    "    print(\"Not and Adam\")"
   ]
  },
  {
   "cell_type": "code",
   "execution_count": null,
   "metadata": {},
   "outputs": [],
   "source": []
  }
 ],
 "metadata": {
  "kernelspec": {
   "display_name": "Python 3",
   "language": "python",
   "name": "python3"
  },
  "language_info": {
   "codemirror_mode": {
    "name": "ipython",
    "version": 3
   },
   "file_extension": ".py",
   "mimetype": "text/x-python",
   "name": "python",
   "nbconvert_exporter": "python",
   "pygments_lexer": "ipython3",
   "version": "3.7.6"
  }
 },
 "nbformat": 4,
 "nbformat_minor": 4
}
