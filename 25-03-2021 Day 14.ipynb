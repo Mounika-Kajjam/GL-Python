{
 "cells": [
  {
   "cell_type": "code",
   "execution_count": 1,
   "metadata": {},
   "outputs": [
    {
     "name": "stdout",
     "output_type": "stream",
     "text": [
      "madam\n",
      "Palindrome\n"
     ]
    }
   ],
   "source": [
    "string = input()\n",
    "if string == string[::-1]:\n",
    "    print(\"Palindrome\")"
   ]
  },
  {
   "cell_type": "markdown",
   "metadata": {},
   "source": [
    "```\n",
    "Accept a string from the user and count no.of vowels,consonants and special characters\n",
    "Input : abcedfg123@$\n",
    "Output : vowels: 2\n",
    "        Consonants : 5\n",
    "        Special characters : 2\n",
    "```"
   ]
  },
  {
   "cell_type": "code",
   "execution_count": 4,
   "metadata": {},
   "outputs": [
    {
     "name": "stdout",
     "output_type": "stream",
     "text": [
      "Vowels Count 8\n",
      "Consonant Count 13\n"
     ]
    }
   ],
   "source": [
    "string = \"This is a simple sentence\"\n",
    "vcount = 0\n",
    "ccount = 0\n",
    "digit = 0\n",
    "\n",
    "#convert the string into lower case\n",
    "string = string.lower()\n",
    "for i in range(0, len(string)):\n",
    "    if string[i] in('a', 'e', 'i', 'o', 'u'):\n",
    "        vcount += 1\n",
    "    elif (string[i] >= 'a' and string[i] <= 'z'):\n",
    "        ccount += 1\n",
    "print(\"Vowels Count\", vcount)\n",
    "print(\"Consonant Count\", ccount)"
   ]
  },
  {
   "cell_type": "code",
   "execution_count": 6,
   "metadata": {},
   "outputs": [
    {
     "name": "stdout",
     "output_type": "stream",
     "text": [
      "P y t h o n   p r o g r a m "
     ]
    }
   ],
   "source": [
    "str1 = \"Python program\"\n",
    "for i in str1:\n",
    "    print(i, end=\" \")"
   ]
  },
  {
   "cell_type": "code",
   "execution_count": 4,
   "metadata": {},
   "outputs": [
    {
     "data": {
      "text/plain": [
       "(8, 12)"
      ]
     },
     "execution_count": 4,
     "metadata": {},
     "output_type": "execute_result"
    }
   ],
   "source": [
    "def vowelscount(string):\n",
    "    n_vowels = 0\n",
    "    n_consonant = 0\n",
    "    for char in string:\n",
    "        if char in \"aeiouAEIOU\":\n",
    "            n_vowels += 1\n",
    "        elif (char >= 'a' and char <= 'z'):\n",
    "            n_consonant += 1\n",
    "    return n_vowels, n_consonant\n",
    "vowelscount(\"This is a simple sentence\")"
   ]
  },
  {
   "cell_type": "code",
   "execution_count": 9,
   "metadata": {},
   "outputs": [
    {
     "data": {
      "text/plain": [
       "4"
      ]
     },
     "execution_count": 9,
     "metadata": {},
     "output_type": "execute_result"
    }
   ],
   "source": [
    "vowelscount(\"Python Programming\")"
   ]
  },
  {
   "cell_type": "markdown",
   "metadata": {},
   "source": [
    "string →  \"((((()()()))))()\"\n",
    "output →  8\n"
   ]
  },
  {
   "cell_type": "code",
   "execution_count": 14,
   "metadata": {},
   "outputs": [
    {
     "name": "stdout",
     "output_type": "stream",
     "text": [
      "Enter a string((((()()()))))()\n",
      "8\n"
     ]
    }
   ],
   "source": [
    "string = input(\"Enter a string\")\n",
    "print(string.count(\"()\")*2)"
   ]
  },
  {
   "cell_type": "code",
   "execution_count": 22,
   "metadata": {},
   "outputs": [
    {
     "name": "stdout",
     "output_type": "stream",
     "text": [
      "o\n",
      "112\n",
      "o p\n"
     ]
    }
   ],
   "source": [
    "# Input :orange\n",
    "# Output : puboif\n",
    "\n",
    "s =input()\n",
    "vowels =['a', 'e', 'i', 'o', 'u']\n",
    "for i in s:\n",
    "    if i in vowels:\n",
    "        print((ord(i)+1))\n",
    "        print(i, chr(ord(i)+1))"
   ]
  },
  {
   "cell_type": "code",
   "execution_count": 3,
   "metadata": {},
   "outputs": [
    {
     "name": "stdout",
     "output_type": "stream",
     "text": [
      "orange\n",
      "puboif"
     ]
    }
   ],
   "source": [
    "# Input :orange\n",
    "# Output : puboif\n",
    "\n",
    "s =input()\n",
    "vowels =['a', 'e', 'i', 'o', 'u']\n",
    "for i in s:\n",
    "    if i in vowels:\n",
    "        print(chr(ord(i)+1), end=\"\")\n",
    "    # if consonant is between A to D or a to d print consecutive vowel\n",
    "    elif (ord(i)>65 and ord(i)<69) or (ord(i)>97 and ord(i)<101):\n",
    "        print('e', end=\"\")\n",
    "    # if consonant is between F to H or f to h print consecutive vowel\n",
    "    elif (ord(i)>69 and ord(i)<73) or (ord(i)> 101 and ord(i)< 105):\n",
    "        print('i', end=\"\")\n",
    "    elif (ord(i)>73 and ord(i)<79) or (ord(i)> 105 and ord(i)< 111):\n",
    "        print('o', end=\"\")\n",
    "    elif (ord(i)>79 and ord(i)<85) or (ord(i)> 111 and ord(i)< 117):\n",
    "        print('u', end=\"\")\n",
    "    elif (ord(i)>85 and ord(i)<90) or (ord(i)> 117 and ord(i)< 122):\n",
    "        print('a', end=\"\")"
   ]
  },
  {
   "cell_type": "code",
   "execution_count": 15,
   "metadata": {},
   "outputs": [
    {
     "data": {
      "text/plain": [
       "97"
      ]
     },
     "execution_count": 15,
     "metadata": {},
     "output_type": "execute_result"
    }
   ],
   "source": [
    "ord('a')"
   ]
  },
  {
   "cell_type": "code",
   "execution_count": 16,
   "metadata": {},
   "outputs": [
    {
     "data": {
      "text/plain": [
       "'a'"
      ]
     },
     "execution_count": 16,
     "metadata": {},
     "output_type": "execute_result"
    }
   ],
   "source": [
    "chr(97)"
   ]
  },
  {
   "cell_type": "code",
   "execution_count": 20,
   "metadata": {},
   "outputs": [
    {
     "data": {
      "text/plain": [
       "'p'"
      ]
     },
     "execution_count": 20,
     "metadata": {},
     "output_type": "execute_result"
    }
   ],
   "source": [
    "chr(112)"
   ]
  },
  {
   "cell_type": "code",
   "execution_count": null,
   "metadata": {},
   "outputs": [],
   "source": []
  }
 ],
 "metadata": {
  "kernelspec": {
   "display_name": "Python 3",
   "language": "python",
   "name": "python3"
  },
  "language_info": {
   "codemirror_mode": {
    "name": "ipython",
    "version": 3
   },
   "file_extension": ".py",
   "mimetype": "text/x-python",
   "name": "python",
   "nbconvert_exporter": "python",
   "pygments_lexer": "ipython3",
   "version": "3.7.6"
  }
 },
 "nbformat": 4,
 "nbformat_minor": 4
}
