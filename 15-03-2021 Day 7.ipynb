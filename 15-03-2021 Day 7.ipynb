{
 "cells": [
  {
   "cell_type": "markdown",
   "metadata": {},
   "source": [
    "### While Loop"
   ]
  },
  {
   "cell_type": "markdown",
   "metadata": {},
   "source": [
    "```\n",
    "while expression:\n",
    "    Statemnt(s)\n",
    "```"
   ]
  },
  {
   "cell_type": "code",
   "execution_count": 2,
   "metadata": {
    "collapsed": true
   },
   "outputs": [
    {
     "name": "stdout",
     "output_type": "stream",
     "text": [
      "Hello Python\n",
      "Hello Python\n",
      "Hello Python\n",
      "Hello Python\n",
      "Hello Python\n",
      "Hello Python\n",
      "Hello Python\n",
      "Hello Python\n",
      "Hello Python\n"
     ]
    }
   ],
   "source": [
    "# print Hello Python 10 times\n",
    "print(\"Hello Python\")\n",
    "print(\"Hello Python\")\n",
    "print(\"Hello Python\")\n",
    "print(\"Hello Python\")\n",
    "print(\"Hello Python\")\n",
    "print(\"Hello Python\")\n",
    "print(\"Hello Python\")\n",
    "print(\"Hello Python\")\n",
    "print(\"Hello Python\")"
   ]
  },
  {
   "cell_type": "code",
   "execution_count": 4,
   "metadata": {},
   "outputs": [
    {
     "name": "stdout",
     "output_type": "stream",
     "text": [
      "Hello Python\n",
      "1\n",
      "Hello Python\n",
      "2\n",
      "Hello Python\n",
      "3\n",
      "Hello Python\n",
      "4\n",
      "Hello Python\n",
      "5\n",
      "Hello Python\n",
      "6\n",
      "Hello Python\n",
      "7\n",
      "Hello Python\n",
      "8\n",
      "Hello Python\n",
      "9\n"
     ]
    }
   ],
   "source": [
    "# Print Hello Python for 10 times\n",
    "count = 0 \n",
    "while (count<9):\n",
    "    print(\"Hello Python\")\n",
    "    # increment the value of count\n",
    "    count += 1 # count = count + 1\n",
    "    print(count)"
   ]
  },
  {
   "cell_type": "code",
   "execution_count": null,
   "metadata": {},
   "outputs": [],
   "source": [
    "# Palindrome Number\n",
    "# 123 --> 321 - Not a Palindrome\n",
    "# 121 --> 121 - Palindrome\n",
    "# 7777--> 77777 - Palindrome\n",
    "# 1212 --> 2121 - Not a Palindrome"
   ]
  },
  {
   "cell_type": "code",
   "execution_count": 2,
   "metadata": {
    "collapsed": true
   },
   "outputs": [
    {
     "name": "stdout",
     "output_type": "stream",
     "text": [
      "Enter any number123\n",
      "Not a Palindrome\n"
     ]
    }
   ],
   "source": [
    "n = int(input(\"Enter any number\"))\n",
    "buffer = n # creating copy of original number\n",
    "rev = 0  # to store the reversed number\n",
    "while n!=0 :\n",
    "    rev = (rev*10) + (n%10)\n",
    "    n = n//10\n",
    "if buffer == rev: # comparing original number & reversed number \n",
    "    print(\"Palindrome\")\n",
    "else:\n",
    "    print(\"Not a Palindrome\")"
   ]
  },
  {
   "cell_type": "markdown",
   "metadata": {},
   "source": [
    "### For Loop"
   ]
  },
  {
   "cell_type": "markdown",
   "metadata": {},
   "source": [
    "```\n",
    "for <var name> in range():\n",
    "    <var value>\n",
    "```"
   ]
  },
  {
   "cell_type": "code",
   "execution_count": 5,
   "metadata": {},
   "outputs": [
    {
     "name": "stdout",
     "output_type": "stream",
     "text": [
      "1 2 3 4 5 6 7 8 9 "
     ]
    }
   ],
   "source": [
    "# range --> start and stop\n",
    "for i in range(1,10):  # range(1, n) --> Arranges numbers between 1 to n-1\n",
    "    print(i, end =\" \")"
   ]
  },
  {
   "cell_type": "code",
   "execution_count": 6,
   "metadata": {},
   "outputs": [
    {
     "name": "stdout",
     "output_type": "stream",
     "text": [
      "0 1 2 3 4 5 6 7 8 9 "
     ]
    }
   ],
   "source": [
    "# range with only stop value(10)\n",
    "for i in range(10):\n",
    "    print(i, end = \" \")"
   ]
  },
  {
   "cell_type": "code",
   "execution_count": 8,
   "metadata": {},
   "outputs": [
    {
     "name": "stdout",
     "output_type": "stream",
     "text": [
      "0 6 12 18 24 "
     ]
    }
   ],
   "source": [
    "for i in range(0,30,6):\n",
    "    print(i, end = \" \")"
   ]
  },
  {
   "cell_type": "code",
   "execution_count": null,
   "metadata": {},
   "outputs": [],
   "source": []
  }
 ],
 "metadata": {
  "kernelspec": {
   "display_name": "Python 3",
   "language": "python",
   "name": "python3"
  },
  "language_info": {
   "codemirror_mode": {
    "name": "ipython",
    "version": 3
   },
   "file_extension": ".py",
   "mimetype": "text/x-python",
   "name": "python",
   "nbconvert_exporter": "python",
   "pygments_lexer": "ipython3",
   "version": "3.7.6"
  }
 },
 "nbformat": 4,
 "nbformat_minor": 4
}
